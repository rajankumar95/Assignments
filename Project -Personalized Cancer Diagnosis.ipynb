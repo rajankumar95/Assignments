{
 "cells": [
  {
   "cell_type": "markdown",
   "id": "7855d4b3",
   "metadata": {},
   "source": [
    "\n",
    "\n",
    "\n",
    "<p style=\"font-size:36px;text-align:center\"> <b>Personalized Cancer Diagnosis</b> </p>"
   ]
  },
  {
   "cell_type": "markdown",
   "id": "ee7b9489",
   "metadata": {},
   "source": [
    "<h1>1. About</h1>"
   ]
  },
  {
   "cell_type": "markdown",
   "id": "b0080b4d",
   "metadata": {},
   "source": [
    "<Li>Once a Patient seems to have some problem and sees some cancer tumour, the doctors take the cancer tumour and try to sequence the cancer tumour.</Li><br><Li> When genetic sequencing is done we get the genes and also the mutations related to it.</Li><br><Li> Mutations are basically small changes in the Genes which can curropt the genetic code and results in the cancer.</Li>\n",
    "<br><B>Note:</B> Not all the type of mutations cause cancer, only some of the specific mutated Genes causes Cancer.\n",
    "<br><br> <B> What is Gene Sequencing? </B><br><br>\n",
    "Every Gene has a name associated with it. We have a gene and a variation on the gene. There are various types of variations of gene. Based on the type of gene and type of variations we can classify each individual / patient into each category. \n",
    "In this given data set there for each variation and type of gene it is classified into total 9 types of classes and some of this classes correspond to some forms of cancer. \n",
    "Today the problem is that there is lots of manual effors given by clinical pathologists or researchers who research on these types of Sequencing/Mutations and that is very time consuming.\n",
    "<br><br><li> We understand that analyzing text represents a difficult challenge, but believe it or not is the current state of the art when it comes to interpretation of genetic variants.</li>\n",
    "\n",
    "<li>The workflow is as follows:</li>\n",
    "<ol type=\"1.\">\n",
    "    <li>A molecular pathologist selects a list of genetic variations of interest that he/she want to analyze.</li>\n",
    "    <li>The molecular pathologist searches for evidence in the medical literature that somehow are relevant to the genetic variations of interest.</li>\n",
    "    <li>Finally this molecular pathologist spends a huge amount of time analyzing the evidence related to each of the variations to classify them.\n",
    "<br>\n",
    "        </ol>\n",
    "\n",
    "<b>Our goal here is to replace step 3 by a machine learning model. The molecular pathologist will still have to decide which variations are of interest, and also collect the relevant evidence for them. But the last step, which is also the most time consuming, will be fully automated.</b>"
   ]
  },
  {
   "cell_type": "markdown",
   "id": "3ff3a78c",
   "metadata": {},
   "source": [
    "<h1>2. Business Problem</h1>"
   ]
  },
  {
   "cell_type": "markdown",
   "id": "1bd2c6e5",
   "metadata": {},
   "source": [
    "<h2>2.1. Description</h2>\n"
   ]
  },
  {
   "cell_type": "code",
   "execution_count": null,
   "id": "0cef229d",
   "metadata": {},
   "outputs": [],
   "source": []
  }
 ],
 "metadata": {
  "kernelspec": {
   "display_name": "Python 3",
   "language": "python",
   "name": "python3"
  },
  "language_info": {
   "codemirror_mode": {
    "name": "ipython",
    "version": 3
   },
   "file_extension": ".py",
   "mimetype": "text/x-python",
   "name": "python",
   "nbconvert_exporter": "python",
   "pygments_lexer": "ipython3",
   "version": "3.8.8"
  }
 },
 "nbformat": 4,
 "nbformat_minor": 5
}
